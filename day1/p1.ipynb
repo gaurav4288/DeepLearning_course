{
  "cells": [
    {
      "cell_type": "markdown",
      "metadata": {
        "id": "view-in-github",
        "colab_type": "text"
      },
      "source": [
        "<a href=\"https://colab.research.google.com/github/gaurav4288/DeepLearning_course/blob/main/day1/p1.ipynb\" target=\"_parent\"><img src=\"https://colab.research.google.com/assets/colab-badge.svg\" alt=\"Open In Colab\"/></a>"
      ]
    },
    {
      "cell_type": "code",
      "execution_count": 2,
      "metadata": {
        "id": "6G3zMWnkBYLZ"
      },
      "outputs": [],
      "source": [
        "import numpy as np\n",
        "import pandas as pd"
      ]
    },
    {
      "cell_type": "code",
      "source": [
        "url = \"https://raw.githubusercontent.com/campusx-official/100-days-of-deep-learning/main/day3/placement.csv\"\n",
        "\n",
        "# Reading the CSV file\n",
        "df = pd.read_csv(url)\n",
        "df.to_csv('placement.csv', index=False)\n",
        "\n",
        "# Displaying the first few rows of the dataframe\n",
        "print(df.head())"
      ],
      "metadata": {
        "id": "JN4sXthfBfN7",
        "colab": {
          "base_uri": "https://localhost:8080/"
        },
        "outputId": "4162bf89-38b8-4279-d802-8c1f1cd39e04"
      },
      "execution_count": 7,
      "outputs": [
        {
          "output_type": "stream",
          "name": "stdout",
          "text": [
            "   cgpa  resume_score  placed\n",
            "0  8.14          6.52       1\n",
            "1  6.17          5.17       0\n",
            "2  8.27          8.86       1\n",
            "3  6.88          7.27       1\n",
            "4  7.52          7.30       1\n"
          ]
        }
      ]
    }
  ],
  "metadata": {
    "kernelspec": {
      "display_name": "Python 3",
      "language": "python",
      "name": "python3"
    },
    "language_info": {
      "codemirror_mode": {
        "name": "ipython",
        "version": 3
      },
      "file_extension": ".py",
      "mimetype": "text/x-python",
      "name": "python",
      "nbconvert_exporter": "python",
      "pygments_lexer": "ipython3",
      "version": "3.12.4"
    },
    "colab": {
      "provenance": [],
      "include_colab_link": true
    }
  },
  "nbformat": 4,
  "nbformat_minor": 0
}